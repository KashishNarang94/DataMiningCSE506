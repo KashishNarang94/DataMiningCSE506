{
 "cells": [
  {
   "cell_type": "code",
   "execution_count": null,
   "metadata": {},
   "outputs": [],
   "source": [
    "#Question 1 of Assignment 2"
   ]
  },
  {
   "cell_type": "code",
   "execution_count": 9,
   "metadata": {},
   "outputs": [],
   "source": [
    "import arff\n",
    "import pandas as pd\n",
    "import numpy as np\n",
    "import matplotlib.pyplot as plt\n",
    "\n",
    "from sklearn import tree\n",
    "from sklearn import preprocessing\n",
    "from sklearn.tree import DecisionTreeClassifier\n",
    "from sklearn.metrics import accuracy_score\n",
    "\n",
    "from statistics import mean\n",
    "from sklearn import model_selection\n",
    "from sklearn.model_selection import train_test_split\n",
    "from sklearn.model_selection import StratifiedKFold\n"
   ]
  },
  {
   "cell_type": "code",
   "execution_count": 2,
   "metadata": {},
   "outputs": [],
   "source": [
    "df=pd.DataFrame()\n",
    "df_test=pd.DataFrame()"
   ]
  },
  {
   "cell_type": "code",
   "execution_count": 3,
   "metadata": {},
   "outputs": [],
   "source": [
    "def getDataFrame():\n",
    "    global df\n",
    "    global df_test\n",
    "    \n",
    "    filename=['training_subsetD.arff','testingD.arff']\n",
    "    \n",
    "    for i in filename:\n",
    "        file1=open(i)\n",
    "        dataset = arff.load(file1)\n",
    "\n",
    "        attributes_list = dataset.get(\"attributes\",[])\n",
    "        data=dataset.get(\"data\")\n",
    "\n",
    "        attribute_vector=[]\n",
    "        X=[]\n",
    "\n",
    "        for idx, attribute_info in enumerate(attributes_list):\n",
    "            attribute_vector+=[attribute_info[0]]\n",
    "\n",
    "        for row in data:\n",
    "            X+=[row]\n",
    "    \n",
    "        if i=='training_subsetD.arff':\n",
    "            df=pd.DataFrame(X,columns=attribute_vector)\n",
    "        else:\n",
    "            df_test=pd.DataFrame(X,columns=attribute_vector)\n",
    "getDataFrame()"
   ]
  },
  {
   "cell_type": "code",
   "execution_count": 4,
   "metadata": {},
   "outputs": [],
   "source": [
    "def CleaningAndEncodingTrain():\n",
    "    global df\n",
    "    \n",
    "    #Handling Null Values \n",
    "    for i in df.columns:\n",
    "        nullcount=0\n",
    "        for j in df[i]:\n",
    "            if j=='NULL':\n",
    "                nullcount+=1\n",
    "        if nullcount>=20000:\n",
    "            df.drop(i,axis=1,inplace=True)\n",
    "        elif nullcount<20000 and nullcount>0 and nullcount<(0.2*40000):  #if no of NULL values isless than 20%, using mode and if its greater, it will create bias in data\n",
    "            #print(i);print(nullcount)\n",
    "            for j in df[i]:\n",
    "                if j=='NULL':\n",
    "                    df[i].replace('NULL',df[i].mode()[0],inplace=True)\n",
    "        elif nullcount<20000 and nullcount>0 and nullcount>=(0.2*40000): #if more than 20% drop that column\n",
    "            df.drop(i,axis=1,inplace=True)\n",
    "    \n",
    "    \n",
    "   #Handling None values\n",
    "    for i in df.columns:\n",
    "        if df[i].isnull().sum()>=20000:\n",
    "            df.drop(i,axis=1,inplace=True)\n",
    "        elif df[i].isnull().sum()>0 and df[i].isnull().sum()<(0.2*40000):\n",
    "            df[i].fillna(df[i].mode()[0],inplace=True)\n",
    "        elif df[i].isnull().sum()>0 and df[i].isnull().sum()>=(0.2*40000):\n",
    "            df.drop(i,axis=1,inplace=True)\n",
    "\n",
    "    #Encoding test data\n",
    "    l_encoder = preprocessing.LabelEncoder()\n",
    "    for i in df.columns:                #including last column\n",
    "        df[i]= l_encoder.fit_transform(df[i])\n",
    "    \n",
    "CleaningAndEncodingTrain()"
   ]
  },
  {
   "cell_type": "code",
   "execution_count": 5,
   "metadata": {},
   "outputs": [],
   "source": [
    "def CleaningAndEncodingTest():\n",
    "    global df_test\n",
    "    \n",
    "    #Handling Null Values \n",
    "    for i in df_test.columns:\n",
    "        nullcount=0\n",
    "        for j in df_test[i]:\n",
    "            if j=='NULL':\n",
    "                nullcount+=1\n",
    "        if nullcount>=20000:\n",
    "            df_test.drop(i,axis=1,inplace=True)\n",
    "        elif nullcount<20000 and nullcount>0 and nullcount<(0.2*40000):  #if no of NULL values isless than 20%, using mode and if its greater, it will create bias in data\n",
    "            #print(i);print(nullcount)\n",
    "            for j in df_test[i]:\n",
    "                if j=='NULL':\n",
    "                    df_test[i].replace('NULL',df_test[i].mode()[0],inplace=True)\n",
    "        elif nullcount<20000 and nullcount>0 and nullcount>=(0.2*40000): #if more than 20% drop that column\n",
    "            df_test.drop(i,axis=1,inplace=True)\n",
    "    \n",
    "    \n",
    "   #Handling None values\n",
    "    for i in df_test.columns:\n",
    "        if df_test[i].isnull().sum()>=20000:\n",
    "            df_test.drop(i,axis=1,inplace=True)\n",
    "        elif df_test[i].isnull().sum()>0 and df_test[i].isnull().sum()<(0.2*40000):\n",
    "            df_test[i].fillna(df_test[i].mode()[0],inplace=True)\n",
    "        elif df_test[i].isnull().sum()>0 and df_test[i].isnull().sum()>=(0.2*40000):\n",
    "            df_test.drop(i,axis=1,inplace=True)\n",
    "\n",
    "    #Encoding test data\n",
    "    l_encoder = preprocessing.LabelEncoder()\n",
    "    for i in df_test.columns:                #including last column\n",
    "        df_test[i]= l_encoder.fit_transform(df_test[i])\n",
    "    \n",
    "CleaningAndEncodingTest()"
   ]
  },
  {
   "cell_type": "code",
   "execution_count": 6,
   "metadata": {},
   "outputs": [],
   "source": [
    "X_df=df.values[:,0:138]\n",
    "Y_df=df.values[:,138]\n",
    "X_dftest=df_test.values[:,0:138]\n",
    "Y_dftest=df_test.values[:,138]"
   ]
  },
  {
   "cell_type": "code",
   "execution_count": 12,
   "metadata": {},
   "outputs": [
    {
     "name": "stdout",
     "output_type": "stream",
     "text": [
      "[74.78399999999999, 73.52, 71.748, 70.34, 69.908]\n",
      "[6, 9, 12, 15, 18]\n"
     ]
    },
    {
     "data": {
      "image/png": "[encoded data removed]",
      "text/plain": [
       "<Figure size 432x288 with 1 Axes>"
      ]
     },
     "metadata": {
      "needs_background": "light"
     },
     "output_type": "display_data"
    }
   ],
   "source": [
    "#Training model and testing on Test Data\n",
    "\n",
    "accuracy_list=[]\n",
    "depth_list=[]\n",
    "\n",
    "for i in range(6,20,3):\n",
    "    #Decisio tree on training and test data and finding accuracy\n",
    "    df_entropy = DecisionTreeClassifier( criterion = \"entropy\", \n",
    "            max_depth =i)\n",
    "  \n",
    "    # Perform training \n",
    "    df_entropy.fit(X_df, Y_df) \n",
    "\n",
    "    #prediction\n",
    "    Y_pred = df_entropy.predict(X_dftest) \n",
    "\n",
    "    #measures\n",
    "    acc=accuracy_score(Y_dftest,Y_pred)*100;\n",
    "    accuracy_list.append(acc)\n",
    "    depth_list.append(i)\n",
    "\n",
    "print(accuracy_list)\n",
    "print(depth_list)\n",
    "\n",
    "#Plot\n",
    "plt.plot(depth_list,accuracy_list)  \n",
    "plt.xlim(5,21)\n",
    "plt.ylim(50,100)\n",
    "# naming the x axis \n",
    "plt.xlabel('depth') \n",
    "# naming the y axis \n",
    "plt.ylabel('accuracy') \n",
    "# function to show the plot \n",
    "plt.show()"
   ]
  },
  {
   "cell_type": "code",
   "execution_count": 13,
   "metadata": {},
   "outputs": [
    {
     "name": "stdout",
     "output_type": "stream",
     "text": [
      "[62.017247844019494, 56.60542432195975, 80.45, 80.64758094761845, 61.970246280785105]\n",
      "68.33809987887656\n",
      "[61.39232595925509, 51.19360079990001, 80.1125, 79.80997624703087, 36.21702712839105]\n",
      "61.7450860269154\n",
      "[60.49243844519435, 44.35695538057743, 79.175, 77.29716214526816, 35.5919489936242]\n",
      "59.382700992932826\n",
      "[53.93075865516811, 42.369703787026616, 77.3, 76.32204025503188, 34.766845855731965]\n",
      "56.93786971059171\n",
      "[51.606049243844524, 42.56967879015123, 74.6125, 73.7217152144018, 34.55431928991124]\n",
      "55.41285250766176\n",
      "[6, 9, 12, 15, 18]\n",
      "[68.33809987887656, 61.7450860269154, 59.382700992932826, 56.93786971059171, 55.41285250766176]\n"
     ]
    },
    {
     "data": {
      "image/png": "[encoded data removed]",
      "text/plain": [
       "<Figure size 432x288 with 1 Axes>"
      ]
     },
     "metadata": {
      "needs_background": "light"
     },
     "output_type": "display_data"
    }
   ],
   "source": [
    "#Training and 5-fold validation\n",
    "accuracy_list_avg=[]\n",
    "depth_list_fold=[]\n",
    "\n",
    "\n",
    "for i in range(6,20,3):\n",
    "    accuracy=[]\n",
    "    \n",
    "    folds=model_selection.StratifiedKFold(n_splits=5, random_state=100)\n",
    "    \n",
    "    for train_index,test_index in folds.split(X_df,Y_df):\n",
    "            #print(\"Train Index: \", train_index, \"\\n\")\n",
    "            #print(\"Test Index: \", test_index)\n",
    "            \n",
    "            X_train, X_test, y_train, y_test = X_df[train_index], X_df[test_index], Y_df[train_index], Y_df[test_index]\n",
    "            \n",
    "            df_entropy = DecisionTreeClassifier( criterion = \"entropy\", max_depth =i)\n",
    "            #df_rf=RandomForestClassifier(n_estimators=100)\n",
    "            df_entropy.fit(X_train, y_train)\n",
    "            \n",
    "            #prediction\n",
    "            y_pred = df_entropy.predict(X_test) \n",
    "\n",
    "            #measures\n",
    "            acc=accuracy_score(y_test,y_pred)*100;\n",
    "            accuracy.append(acc)\n",
    "    print(accuracy)\n",
    "    print(mean(accuracy))\n",
    "    accuracy_list_avg.append(mean(accuracy))\n",
    "    depth_list_fold.append(i)\n",
    "    \n",
    "    \n",
    "print(depth_list_fold)\n",
    "print(accuracy_list_avg)\n",
    "\n",
    "\n",
    "#Plot\n",
    "plt.plot(depth_list_fold,accuracy_list_avg)  \n",
    "plt.xlim(5,21)\n",
    "plt.ylim(40,100)\n",
    "# naming the x axis \n",
    "plt.xlabel('depth') \n",
    "# naming the y axis \n",
    "plt.ylabel('accuracy') \n",
    "# function to show the plot \n",
    "plt.show()\n",
    "\n"
   ]
  },
  {
   "cell_type": "code",
   "execution_count": null,
   "metadata": {},
   "outputs": [],
   "source": [
    "optimal_depth=0\n",
    "optimal_accuracy=0\n",
    "\n",
    "\n",
    "for (i,j) in zip(accuracy_list_avg,depth_list_fold):\n",
    "    if optimal_accuracy<i:\n",
    "        optimal_accuracy=i\n",
    "        optimal_depth=j\n",
    "        \n",
    "print(\"Optimal tree depth\",optimal_depth,\" with accuracy=\",optimal_accuracy)"
   ]
  }
 ],
 "metadata": {
  "kernelspec": {
   "display_name": "Python 3",
   "language": "python",
   "name": "python3"
  },
  "language_info": {
   "codemirror_mode": {
    "name": "ipython",
    "version": 3
   },
   "file_extension": ".py",
   "mimetype": "text/x-python",
   "name": "python",
   "nbconvert_exporter": "python",
   "pygments_lexer": "ipython3",
   "version": "3.7.4"
  }
 },
 "nbformat": 4,
 "nbformat_minor": 2
}
